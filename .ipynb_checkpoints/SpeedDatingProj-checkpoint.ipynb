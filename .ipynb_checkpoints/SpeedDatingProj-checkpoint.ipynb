{
 "cells": [
  {
   "cell_type": "markdown",
   "id": "d85f539b-8f39-4e36-9036-263f6c7e3fce",
   "metadata": {},
   "source": [
    "# Speed Dating Analysis - Tristan Langley"
   ]
  },
  {
   "cell_type": "markdown",
   "id": "c2834a2f-bbfd-4224-b87a-d5e158568345",
   "metadata": {},
   "source": [
    "**This project looks at speed dating survey results. The goal is to find the features that best predict whether someone\n",
    "will decide \"yes\" on their partner (i.e. want to match with them). Then, we will create a model based on these features\n",
    "and test how accurately it predicts \"yes\" decisions.**"
   ]
  },
  {
   "cell_type": "markdown",
   "id": "8e8bfb58-d2e9-4f22-aeef-2c03656072ea",
   "metadata": {},
   "source": [
    "**1. Data preprocessing:** Speed dating data is in a csv file. There are 195 columns; we will keep only the most\n",
    "\"straightforward\" ones. E.g. attractiveness rating, correlation in interests, age difference, etc."
   ]
  },
  {
   "cell_type": "code",
   "execution_count": 24,
   "id": "06e30b9a-c671-4a01-a845-f6985f6c1cca",
   "metadata": {},
   "outputs": [],
   "source": [
    "import pandas as pd\n",
    "\n",
    "# List of columns I want to keep\n",
    "# TODO decide if I want to put partner's ranking on each individual interest (e.g. 'exercise', 'dining', etc.)\n",
    "colnames = ['gender', 'int_corr', 'samerace', 'age_o', 'dec_o', 'attr_o', 'sinc_o',\n",
    "            'intel_o', 'fun_o', 'amb_o', 'shar_o', 'prob_o', 'met_o', 'age', 'race', 'dec']\n",
    "\n",
    "# Load the columns I want into a pandas dataframe\n",
    "full_df = pd.read_csv('SpeedDatingData.csv', usecols=colnames)\n",
    "\n",
    "# Drop any rows with NaN value(s)\n",
    "full_df.dropna(inplace=True)\n",
    "\n",
    "# Create a new column for difference in age. Negative means partner is younger than me\n",
    "full_df['d_age'] = full_df.apply(lambda row: row.age - row.age_o, axis = 1)\n",
    "\n",
    "# Now drop my age from the dataframe -- not going to use this as a predictor, because it does not describe their partner\n",
    "full_df = full_df.drop(['age_o'], axis=1)\n",
    "\n",
    "# Separate data (possible predictors) from targets (what we are trying to predict: the decision yes/no)\n",
    "data = full_df.drop(['gender', 'dec_o', 'dec', 'gender'], axis=1)\n",
    "targets = full_df['dec_o']\n"
   ]
  },
  {
   "cell_type": "markdown",
   "id": "d3edfbb1-e906-41bd-be2f-72bb0b73bd60",
   "metadata": {},
   "source": [
    "Description of data columns:\n",
    "- gender: F=0, M=1\n",
    "- int_corr: correlation between interests (polled from 1-10 on interests like exercise, dining, museums, gaming, etc.)\n",
    "- samerace: same race=1, different races=0\n",
    "- dec_o: my decision, no=0 yes=1\n",
    "- attr_o: my rating of partner's attractiveness (1-10)\n",
    "- sinc_o: my rating of partner's sincerity (1-10)\n",
    "- intel_o: my rating of partner's intelligence (1-10)\n",
    "- fun_o: my rating of partner's funnyness (1-10)\n",
    "- amb_o: my rating of partner's ambition (1-10)\n",
    "- shar_o: my rating of partner on our shared interests (1-10)\n",
    "- prob_o: how likely do I think it is that my partner decided \"yes\" on me (1-10)\n",
    "- met_o: have I met my partner before, no=1 yes=2\n",
    "- age: partner's age (years)\n",
    "- race: partner's race (integer)\n",
    "- dec: partner's decision on me, no=0 yes=1\n",
    "- d_age: difference in age (negative means partner is younger than me)"
   ]
  },
  {
   "cell_type": "markdown",
   "id": "462c4434-1272-42a5-979a-b40ab2ccf279",
   "metadata": {},
   "source": [
    "**2. Find best predictors:** Use calculated correlations and top layers of a decision tree to see which qualities seem to be the best predictors\n",
    "of \"yes\" decisions"
   ]
  },
  {
   "cell_type": "code",
   "execution_count": null,
   "id": "595200db-55ed-4423-bab6-a01109c2142b",
   "metadata": {},
   "outputs": [],
   "source": []
  },
  {
   "cell_type": "markdown",
   "id": "26db6108-84f9-4c76-b732-81326eb3c7a1",
   "metadata": {},
   "source": [
    "**3. Create KNN model**"
   ]
  },
  {
   "cell_type": "code",
   "execution_count": null,
   "id": "aae6a95a-ab34-4d1b-a86a-4f809b43c231",
   "metadata": {},
   "outputs": [],
   "source": []
  },
  {
   "cell_type": "markdown",
   "id": "61f1b10a-7dd0-4c77-b00a-07918af7ea7f",
   "metadata": {},
   "source": [
    "**4. Create Decision Tree model**"
   ]
  },
  {
   "cell_type": "code",
   "execution_count": null,
   "id": "4ba93f6b-5146-4a92-82b7-b780152d45f1",
   "metadata": {},
   "outputs": [],
   "source": []
  },
  {
   "cell_type": "markdown",
   "id": "4f2bb258-b103-46b0-8227-8aef254b8dbe",
   "metadata": {},
   "source": [
    "**5. Create Linear Regression model**"
   ]
  },
  {
   "cell_type": "code",
   "execution_count": null,
   "id": "3d223a9a-3c60-4914-a2d7-045aacba0510",
   "metadata": {},
   "outputs": [],
   "source": []
  },
  {
   "cell_type": "markdown",
   "id": "54325118-f03e-42ec-80fd-d2a0ff3dd5d0",
   "metadata": {},
   "source": [
    "**6. Compare accuracies of each prediction model**"
   ]
  },
  {
   "cell_type": "code",
   "execution_count": null,
   "id": "6ca4fccf-26b8-4a92-836d-c77ea0e9014b",
   "metadata": {},
   "outputs": [],
   "source": []
  }
 ],
 "metadata": {
  "kernelspec": {
   "display_name": "Python 3 (ipykernel)",
   "language": "python",
   "name": "python3"
  },
  "language_info": {
   "codemirror_mode": {
    "name": "ipython",
    "version": 3
   },
   "file_extension": ".py",
   "mimetype": "text/x-python",
   "name": "python",
   "nbconvert_exporter": "python",
   "pygments_lexer": "ipython3",
   "version": "3.8.13"
  }
 },
 "nbformat": 4,
 "nbformat_minor": 5
}

{
 "cells": [
  {
   "cell_type": "markdown",
   "id": "d85f539b-8f39-4e36-9036-263f6c7e3fce",
   "metadata": {},
   "source": [
    "# Speed Dating Analysis - Tristan Langley"
   ]
  },
  {
   "cell_type": "markdown",
   "id": "c2834a2f-bbfd-4224-b87a-d5e158568345",
   "metadata": {},
   "source": [
    "**This project looks at speed dating survey results. The goal is to find the features that best predict whether someone\n",
    "will decide \"yes\" on their partner (i.e. want to match with them). Then, we will create a model based on these features\n",
    "and test how accurately it predicts yes/no decisions.**"
   ]
  },
  {
   "cell_type": "markdown",
   "id": "8e8bfb58-d2e9-4f22-aeef-2c03656072ea",
   "metadata": {},
   "source": [
    "# 1. Data preprocessing\n",
    "**Speed dating data is in a csv file. There are 195 columns; we will keep only the most \"straightforward\" ones.\n",
    "E.g. attractiveness rating, correlation in interests, age difference, etc.**"
   ]
  },
  {
   "cell_type": "code",
   "execution_count": 1,
   "id": "06e30b9a-c671-4a01-a845-f6985f6c1cca",
   "metadata": {},
   "outputs": [
    {
     "data": {
      "text/html": [
       "<div>\n",
       "<style scoped>\n",
       "    .dataframe tbody tr th:only-of-type {\n",
       "        vertical-align: middle;\n",
       "    }\n",
       "\n",
       "    .dataframe tbody tr th {\n",
       "        vertical-align: top;\n",
       "    }\n",
       "\n",
       "    .dataframe thead th {\n",
       "        text-align: right;\n",
       "    }\n",
       "</style>\n",
       "<table border=\"1\" class=\"dataframe\">\n",
       "  <thead>\n",
       "    <tr style=\"text-align: right;\">\n",
       "      <th></th>\n",
       "      <th>int_corr</th>\n",
       "      <th>samerace</th>\n",
       "      <th>attr_o</th>\n",
       "      <th>sinc_o</th>\n",
       "      <th>intel_o</th>\n",
       "      <th>fun_o</th>\n",
       "      <th>amb_o</th>\n",
       "      <th>shar_o</th>\n",
       "      <th>met_o</th>\n",
       "      <th>race</th>\n",
       "      <th>d_age</th>\n",
       "    </tr>\n",
       "  </thead>\n",
       "  <tbody>\n",
       "    <tr>\n",
       "      <th>0</th>\n",
       "      <td>0.14</td>\n",
       "      <td>0</td>\n",
       "      <td>6.0</td>\n",
       "      <td>8.0</td>\n",
       "      <td>8.0</td>\n",
       "      <td>8.0</td>\n",
       "      <td>8.0</td>\n",
       "      <td>6.0</td>\n",
       "      <td>2.0</td>\n",
       "      <td>4.0</td>\n",
       "      <td>6.0</td>\n",
       "    </tr>\n",
       "    <tr>\n",
       "      <th>1</th>\n",
       "      <td>0.54</td>\n",
       "      <td>0</td>\n",
       "      <td>7.0</td>\n",
       "      <td>8.0</td>\n",
       "      <td>10.0</td>\n",
       "      <td>7.0</td>\n",
       "      <td>7.0</td>\n",
       "      <td>5.0</td>\n",
       "      <td>2.0</td>\n",
       "      <td>4.0</td>\n",
       "      <td>1.0</td>\n",
       "    </tr>\n",
       "    <tr>\n",
       "      <th>2</th>\n",
       "      <td>0.16</td>\n",
       "      <td>1</td>\n",
       "      <td>10.0</td>\n",
       "      <td>10.0</td>\n",
       "      <td>10.0</td>\n",
       "      <td>10.0</td>\n",
       "      <td>10.0</td>\n",
       "      <td>10.0</td>\n",
       "      <td>1.0</td>\n",
       "      <td>4.0</td>\n",
       "      <td>1.0</td>\n",
       "    </tr>\n",
       "    <tr>\n",
       "      <th>3</th>\n",
       "      <td>0.61</td>\n",
       "      <td>0</td>\n",
       "      <td>7.0</td>\n",
       "      <td>8.0</td>\n",
       "      <td>9.0</td>\n",
       "      <td>8.0</td>\n",
       "      <td>9.0</td>\n",
       "      <td>8.0</td>\n",
       "      <td>2.0</td>\n",
       "      <td>4.0</td>\n",
       "      <td>2.0</td>\n",
       "    </tr>\n",
       "    <tr>\n",
       "      <th>4</th>\n",
       "      <td>0.21</td>\n",
       "      <td>0</td>\n",
       "      <td>8.0</td>\n",
       "      <td>7.0</td>\n",
       "      <td>9.0</td>\n",
       "      <td>6.0</td>\n",
       "      <td>9.0</td>\n",
       "      <td>7.0</td>\n",
       "      <td>2.0</td>\n",
       "      <td>4.0</td>\n",
       "      <td>3.0</td>\n",
       "    </tr>\n",
       "    <tr>\n",
       "      <th>...</th>\n",
       "      <td>...</td>\n",
       "      <td>...</td>\n",
       "      <td>...</td>\n",
       "      <td>...</td>\n",
       "      <td>...</td>\n",
       "      <td>...</td>\n",
       "      <td>...</td>\n",
       "      <td>...</td>\n",
       "      <td>...</td>\n",
       "      <td>...</td>\n",
       "      <td>...</td>\n",
       "    </tr>\n",
       "    <tr>\n",
       "      <th>8372</th>\n",
       "      <td>0.28</td>\n",
       "      <td>1</td>\n",
       "      <td>8.0</td>\n",
       "      <td>8.0</td>\n",
       "      <td>7.0</td>\n",
       "      <td>7.0</td>\n",
       "      <td>8.0</td>\n",
       "      <td>6.0</td>\n",
       "      <td>2.0</td>\n",
       "      <td>2.0</td>\n",
       "      <td>1.0</td>\n",
       "    </tr>\n",
       "    <tr>\n",
       "      <th>8374</th>\n",
       "      <td>0.71</td>\n",
       "      <td>0</td>\n",
       "      <td>6.0</td>\n",
       "      <td>3.0</td>\n",
       "      <td>7.0</td>\n",
       "      <td>3.0</td>\n",
       "      <td>7.0</td>\n",
       "      <td>2.0</td>\n",
       "      <td>2.0</td>\n",
       "      <td>2.0</td>\n",
       "      <td>1.0</td>\n",
       "    </tr>\n",
       "    <tr>\n",
       "      <th>8375</th>\n",
       "      <td>-0.46</td>\n",
       "      <td>0</td>\n",
       "      <td>2.0</td>\n",
       "      <td>1.0</td>\n",
       "      <td>2.0</td>\n",
       "      <td>2.0</td>\n",
       "      <td>2.0</td>\n",
       "      <td>1.0</td>\n",
       "      <td>2.0</td>\n",
       "      <td>2.0</td>\n",
       "      <td>4.0</td>\n",
       "    </tr>\n",
       "    <tr>\n",
       "      <th>8376</th>\n",
       "      <td>0.62</td>\n",
       "      <td>0</td>\n",
       "      <td>5.0</td>\n",
       "      <td>7.0</td>\n",
       "      <td>5.0</td>\n",
       "      <td>5.0</td>\n",
       "      <td>3.0</td>\n",
       "      <td>6.0</td>\n",
       "      <td>2.0</td>\n",
       "      <td>2.0</td>\n",
       "      <td>3.0</td>\n",
       "    </tr>\n",
       "    <tr>\n",
       "      <th>8377</th>\n",
       "      <td>0.01</td>\n",
       "      <td>0</td>\n",
       "      <td>8.0</td>\n",
       "      <td>8.0</td>\n",
       "      <td>7.0</td>\n",
       "      <td>7.0</td>\n",
       "      <td>7.0</td>\n",
       "      <td>7.0</td>\n",
       "      <td>2.0</td>\n",
       "      <td>2.0</td>\n",
       "      <td>3.0</td>\n",
       "    </tr>\n",
       "  </tbody>\n",
       "</table>\n",
       "<p>6642 rows × 11 columns</p>\n",
       "</div>"
      ],
      "text/plain": [
       "      int_corr  samerace  attr_o  sinc_o  intel_o  fun_o  amb_o  shar_o  \\\n",
       "0         0.14         0     6.0     8.0      8.0    8.0    8.0     6.0   \n",
       "1         0.54         0     7.0     8.0     10.0    7.0    7.0     5.0   \n",
       "2         0.16         1    10.0    10.0     10.0   10.0   10.0    10.0   \n",
       "3         0.61         0     7.0     8.0      9.0    8.0    9.0     8.0   \n",
       "4         0.21         0     8.0     7.0      9.0    6.0    9.0     7.0   \n",
       "...        ...       ...     ...     ...      ...    ...    ...     ...   \n",
       "8372      0.28         1     8.0     8.0      7.0    7.0    8.0     6.0   \n",
       "8374      0.71         0     6.0     3.0      7.0    3.0    7.0     2.0   \n",
       "8375     -0.46         0     2.0     1.0      2.0    2.0    2.0     1.0   \n",
       "8376      0.62         0     5.0     7.0      5.0    5.0    3.0     6.0   \n",
       "8377      0.01         0     8.0     8.0      7.0    7.0    7.0     7.0   \n",
       "\n",
       "      met_o  race  d_age  \n",
       "0       2.0   4.0    6.0  \n",
       "1       2.0   4.0    1.0  \n",
       "2       1.0   4.0    1.0  \n",
       "3       2.0   4.0    2.0  \n",
       "4       2.0   4.0    3.0  \n",
       "...     ...   ...    ...  \n",
       "8372    2.0   2.0    1.0  \n",
       "8374    2.0   2.0    1.0  \n",
       "8375    2.0   2.0    4.0  \n",
       "8376    2.0   2.0    3.0  \n",
       "8377    2.0   2.0    3.0  \n",
       "\n",
       "[6642 rows x 11 columns]"
      ]
     },
     "execution_count": 1,
     "metadata": {},
     "output_type": "execute_result"
    }
   ],
   "source": [
    "import pandas as pd\n",
    "\n",
    "# List of columns I want to keep\n",
    "# TODO decide if I want to put partner's ranking on each individual interest (e.g. 'exercise', 'dining', etc.)\n",
    "col_names = ['gender', 'int_corr', 'samerace', 'age_o', 'dec_o', 'attr_o', 'sinc_o',\n",
    "            'intel_o', 'fun_o', 'amb_o', 'shar_o', 'prob_o', 'met_o', 'age', 'race', 'dec']\n",
    "\n",
    "# Load the columns I want into a pandas dataframe\n",
    "full_df = pd.read_csv('SpeedDatingData.csv', usecols=col_names)\n",
    "\n",
    "# Drop any rows with NaN value(s)\n",
    "full_df.dropna(inplace=True)\n",
    "\n",
    "# Create a new column for difference in age (absolute value)\n",
    "full_df['d_age'] = full_df.apply(lambda row: abs(row.age - row.age_o), axis = 1)\n",
    "\n",
    "# Now drop my age from the dataframe -- not going to use this as a predictor, because it does not describe their partner\n",
    "full_df = full_df.drop(['age_o'], axis=1)\n",
    "\n",
    "# Separate data (possible predictors) from targets (what we are trying to predict: the decision yes/no)\n",
    "data = full_df.drop(['gender', 'dec_o', 'dec', 'prob_o', 'age'], axis=1)\n",
    "target = full_df['dec_o']\n",
    "prob_guess = full_df['prob_o']\n",
    "\n",
    "# Make lists of feature column names and map them to longer descriptions\n",
    "ft_names = data.columns.tolist()\n",
    "ft_desc = { 'gender': 'Gender', 'int_corr': 'Correlation of Interests', 'samerace': 'Same Race',\n",
    "            'age_o': 'My Age', 'dec_o': 'My Decision Y/N', 'attr_o': 'Attractiveness Rating',\n",
    "            'sinc_o': 'Sincerity Rating', 'intel_o': 'Intelligence Rating', 'fun_o': 'Funnyness Rating',\n",
    "            'amb_o': 'Ambition Rating', 'shar_o': 'Shared Interests Rating',\n",
    "            'prob_o': \"My Guess of Partner's Decision No/Yes\", 'met_o': \"Have I Met Partner Before Y/N\",\n",
    "            'age': \"Partner's Age\", 'race': \"Partner's Race\", 'dec': \"Partner's Decision Y/N\",\n",
    "            'd_age': \"Age Difference\" }\n",
    "\n",
    "data"
   ]
  },
  {
   "cell_type": "markdown",
   "id": "d3edfbb1-e906-41bd-be2f-72bb0b73bd60",
   "metadata": {},
   "source": [
    "Description of columns:\n",
    "- gender: F=0, M=1\n",
    "- int_corr: correlation between interests (polled from 1-10 on interests like exercise, dining, museums, gaming, etc.)\n",
    "- samerace: same race=1, different races=0\n",
    "- dec_o: my decision, no=0 yes=1\n",
    "- attr_o: my rating of partner's attractiveness (1-10)\n",
    "- sinc_o: my rating of partner's sincerity (1-10)\n",
    "- intel_o: my rating of partner's intelligence (1-10)\n",
    "- fun_o: my rating of partner's funnyness (1-10)\n",
    "- amb_o: my rating of partner's ambition (1-10)\n",
    "- shar_o: my rating of partner on our shared interests (1-10)\n",
    "- prob_o: how likely do I think it is that my partner decided \"yes\" on me (1-10)\n",
    "- met_o: have I met my partner before, no=1 yes=2\n",
    "- age: partner's age (years)\n",
    "- race: partner's race (integer)\n",
    "- dec: partner's decision on me, no=0 yes=1\n",
    "- d_age: difference in age (negative means partner is younger than me)"
   ]
  },
  {
   "cell_type": "markdown",
   "id": "462c4434-1272-42a5-979a-b40ab2ccf279",
   "metadata": {},
   "source": [
    "## 2. Find best predictors\n",
    "**Find the qualities that seem to be the best predictors of a 'Yes' decision. Use calculated correlations\n",
    "between qualities and decisions, top layers of a decision tree, and top dimensions of principle component\n",
    "analysis.**"
   ]
  },
  {
   "cell_type": "code",
   "execution_count": 2,
   "id": "595200db-55ed-4423-bab6-a01109c2142b",
   "metadata": {},
   "outputs": [
    {
     "name": "stdout",
     "output_type": "stream",
     "text": [
      "Quality                        Correlation with Decision\n",
      "Attractiveness Rating          0.48802\n",
      "Funnyness Rating               0.41175\n",
      "Shared Interests Rating        0.39771\n",
      "Intelligence Rating            0.21568\n",
      "Sincerity Rating               0.21061\n",
      "Ambition Rating                0.18264\n",
      "Same Race                      0.03336\n",
      "Correlation of Interests       0.01003\n",
      "Age Difference                 -0.04011\n",
      "Partner's Race                 -0.06513\n",
      "Have I Met Partner Before Y/N  -0.06769\n"
     ]
    }
   ],
   "source": [
    "# Calculate correlations between features and targets\n",
    "corr = data.corrwith(target).sort_values(ascending=False)\n",
    "print('%-30s %s' %('Quality', 'Correlation with Decision'))\n",
    "for i in range(len(corr)):\n",
    "    print('%-30s %.5f' %(ft_desc[corr.index[i]], corr[i]))"
   ]
  },
  {
   "cell_type": "markdown",
   "id": "d2d62914-da79-4785-9e2e-0e2ff12cc2ff",
   "metadata": {},
   "source": [
    "EXPLAIN THE RESULTS OF THE CORRELATIONS"
   ]
  },
  {
   "cell_type": "code",
   "execution_count": 3,
   "id": "a90d17c5-79e6-4601-aadb-5d468a1ccdb1",
   "metadata": {},
   "outputs": [
    {
     "name": "stderr",
     "output_type": "stream",
     "text": [
      "C:\\Users\\Butter\\anaconda3\\envs\\cse6194\\lib\\site-packages\\scipy\\__init__.py:146: UserWarning: A NumPy version >=1.16.5 and <1.23.0 is required for this version of SciPy (detected version 1.23.1\n",
      "  warnings.warn(f\"A NumPy version >={np_minversion} and <{np_maxversion}\"\n"
     ]
    },
    {
     "name": "stdout",
     "output_type": "stream",
     "text": [
      "|--- attr_o <= 6.25\n",
      "|   |--- shar_o <= 4.50\n",
      "|   |   |--- attr_o <= 5.50\n",
      "|   |   |   |--- fun_o <= 5.50\n",
      "|   |   |   |   |--- class: 0\n",
      "|   |   |   |--- fun_o >  5.50\n",
      "|   |   |   |   |--- class: 0\n",
      "|   |   |--- attr_o >  5.50\n",
      "|   |   |   |--- race <= 1.50\n",
      "|   |   |   |   |--- class: 1\n",
      "|   |   |   |--- race >  1.50\n",
      "|   |   |   |   |--- class: 0\n",
      "|   |--- shar_o >  4.50\n",
      "|   |   |--- attr_o <= 4.50\n",
      "|   |   |   |--- shar_o <= 6.50\n",
      "|   |   |   |   |--- class: 0\n",
      "|   |   |   |--- shar_o >  6.50\n",
      "|   |   |   |   |--- class: 0\n",
      "|   |   |--- attr_o >  4.50\n",
      "|   |   |   |--- fun_o <= 6.50\n",
      "|   |   |   |   |--- class: 0\n",
      "|   |   |   |--- fun_o >  6.50\n",
      "|   |   |   |   |--- class: 0\n",
      "|--- attr_o >  6.25\n",
      "|   |--- shar_o <= 4.50\n",
      "|   |   |--- fun_o <= 5.50\n",
      "|   |   |   |--- amb_o <= 8.50\n",
      "|   |   |   |   |--- class: 0\n",
      "|   |   |   |--- amb_o >  8.50\n",
      "|   |   |   |   |--- class: 0\n",
      "|   |   |--- fun_o >  5.50\n",
      "|   |   |   |--- amb_o <= 5.50\n",
      "|   |   |   |   |--- class: 1\n",
      "|   |   |   |--- amb_o >  5.50\n",
      "|   |   |   |   |--- class: 0\n",
      "|   |--- shar_o >  4.50\n",
      "|   |   |--- attr_o <= 7.25\n",
      "|   |   |   |--- shar_o <= 6.75\n",
      "|   |   |   |   |--- class: 1\n",
      "|   |   |   |--- shar_o >  6.75\n",
      "|   |   |   |   |--- class: 1\n",
      "|   |   |--- attr_o >  7.25\n",
      "|   |   |   |--- shar_o <= 7.25\n",
      "|   |   |   |   |--- class: 1\n",
      "|   |   |   |--- shar_o >  7.25\n",
      "|   |   |   |   |--- class: 1\n",
      "\n"
     ]
    }
   ],
   "source": [
    "from sklearn.model_selection import train_test_split\n",
    "from sklearn.tree import DecisionTreeClassifier\n",
    "from sklearn import tree\n",
    "\n",
    "# Train a decision tree of depth 4\n",
    "dt4 = DecisionTreeClassifier(max_depth=4)\n",
    "dt4.fit(data, target)\n",
    "\n",
    "# Print the tree\n",
    "print(tree.export_text(dt4, feature_names=ft_names))"
   ]
  },
  {
   "cell_type": "markdown",
   "id": "6b67d8b4-1d06-4361-86a6-4f93e1cfd008",
   "metadata": {},
   "source": [
    "EXPLAIN THE RESULTS OF THE DECISION TREE"
   ]
  },
  {
   "cell_type": "code",
   "execution_count": 4,
   "id": "ac8f4329-74f9-481d-8654-6a2089aa8184",
   "metadata": {},
   "outputs": [
    {
     "data": {
      "text/html": [
       "<div>\n",
       "<style scoped>\n",
       "    .dataframe tbody tr th:only-of-type {\n",
       "        vertical-align: middle;\n",
       "    }\n",
       "\n",
       "    .dataframe tbody tr th {\n",
       "        vertical-align: top;\n",
       "    }\n",
       "\n",
       "    .dataframe thead th {\n",
       "        text-align: right;\n",
       "    }\n",
       "</style>\n",
       "<table border=\"1\" class=\"dataframe\">\n",
       "  <thead>\n",
       "    <tr style=\"text-align: right;\">\n",
       "      <th></th>\n",
       "      <th>int_corr</th>\n",
       "      <th>samerace</th>\n",
       "      <th>attr_o</th>\n",
       "      <th>sinc_o</th>\n",
       "      <th>intel_o</th>\n",
       "      <th>fun_o</th>\n",
       "      <th>amb_o</th>\n",
       "      <th>shar_o</th>\n",
       "      <th>met_o</th>\n",
       "      <th>race</th>\n",
       "      <th>d_age</th>\n",
       "    </tr>\n",
       "  </thead>\n",
       "  <tbody>\n",
       "    <tr>\n",
       "      <th>PC-1</th>\n",
       "      <td>0.003151</td>\n",
       "      <td>0.006677</td>\n",
       "      <td>0.409262</td>\n",
       "      <td>0.357774</td>\n",
       "      <td>0.325021</td>\n",
       "      <td>0.473156</td>\n",
       "      <td>0.365102</td>\n",
       "      <td>0.483479</td>\n",
       "      <td>0.009594</td>\n",
       "      <td>0.019241</td>\n",
       "      <td>0.086134</td>\n",
       "    </tr>\n",
       "    <tr>\n",
       "      <th>PC-2</th>\n",
       "      <td>0.003498</td>\n",
       "      <td>0.012233</td>\n",
       "      <td>0.026449</td>\n",
       "      <td>0.037066</td>\n",
       "      <td>0.026370</td>\n",
       "      <td>0.036382</td>\n",
       "      <td>0.027660</td>\n",
       "      <td>0.052263</td>\n",
       "      <td>0.006026</td>\n",
       "      <td>0.025788</td>\n",
       "      <td>0.995765</td>\n",
       "    </tr>\n",
       "    <tr>\n",
       "      <th>PC-3</th>\n",
       "      <td>0.000419</td>\n",
       "      <td>0.023619</td>\n",
       "      <td>0.386479</td>\n",
       "      <td>0.433997</td>\n",
       "      <td>0.449123</td>\n",
       "      <td>0.173803</td>\n",
       "      <td>0.445685</td>\n",
       "      <td>0.455012</td>\n",
       "      <td>0.005440</td>\n",
       "      <td>0.155192</td>\n",
       "      <td>0.004347</td>\n",
       "    </tr>\n",
       "  </tbody>\n",
       "</table>\n",
       "</div>"
      ],
      "text/plain": [
       "      int_corr  samerace    attr_o    sinc_o   intel_o     fun_o     amb_o  \\\n",
       "PC-1  0.003151  0.006677  0.409262  0.357774  0.325021  0.473156  0.365102   \n",
       "PC-2  0.003498  0.012233  0.026449  0.037066  0.026370  0.036382  0.027660   \n",
       "PC-3  0.000419  0.023619  0.386479  0.433997  0.449123  0.173803  0.445685   \n",
       "\n",
       "        shar_o     met_o      race     d_age  \n",
       "PC-1  0.483479  0.009594  0.019241  0.086134  \n",
       "PC-2  0.052263  0.006026  0.025788  0.995765  \n",
       "PC-3  0.455012  0.005440  0.155192  0.004347  "
      ]
     },
     "execution_count": 4,
     "metadata": {},
     "output_type": "execute_result"
    }
   ],
   "source": [
    "from sklearn.decomposition import PCA\n",
    "import numpy as np\n",
    "\n",
    "# Fit a PCA transform using training data\n",
    "pca = PCA()\n",
    "pca.fit(data)\n",
    "\n",
    "# Transform training set and testing set using PCA\n",
    "x_train_pca = pca.transform(data)\n",
    "\n",
    "# Compute the proportion of variance explained by each dimension\n",
    "var_dimensions = pca.explained_variance_ratio_\n",
    "\n",
    "# Print dataframe of the weights of each feature on the first three principal components\n",
    "pd.DataFrame(abs(pca.components_[:3]), columns=data.columns, index=['PC-1','PC-2', 'PC-3'])"
   ]
  },
  {
   "cell_type": "markdown",
   "id": "35464161-735a-4d16-bb74-6e51de7b1a12",
   "metadata": {},
   "source": [
    "EXPLAIN THE RESULTS OF PCA"
   ]
  },
  {
   "cell_type": "markdown",
   "id": "26db6108-84f9-4c76-b732-81326eb3c7a1",
   "metadata": {},
   "source": [
    "# 3. Train models to predict yes/no decisions\n",
    "**Train decision tree, support vector machine, and k-nearest neighbor models using\n",
    "the training data set.**"
   ]
  },
  {
   "cell_type": "code",
   "execution_count": 5,
   "id": "aae6a95a-ab34-4d1b-a86a-4f809b43c231",
   "metadata": {},
   "outputs": [],
   "source": [
    "# Split the data into training and testing. Use 20% of the data for testing\n",
    "x_train, x_test, y_train, y_test = train_test_split(data, target, test_size=0.2, random_state=0)"
   ]
  },
  {
   "cell_type": "code",
   "execution_count": 6,
   "id": "4ba93f6b-5146-4a92-82b7-b780152d45f1",
   "metadata": {},
   "outputs": [
    {
     "data": {
      "text/html": [
       "<style>#sk-container-id-1 {color: black;background-color: white;}#sk-container-id-1 pre{padding: 0;}#sk-container-id-1 div.sk-toggleable {background-color: white;}#sk-container-id-1 label.sk-toggleable__label {cursor: pointer;display: block;width: 100%;margin-bottom: 0;padding: 0.3em;box-sizing: border-box;text-align: center;}#sk-container-id-1 label.sk-toggleable__label-arrow:before {content: \"▸\";float: left;margin-right: 0.25em;color: #696969;}#sk-container-id-1 label.sk-toggleable__label-arrow:hover:before {color: black;}#sk-container-id-1 div.sk-estimator:hover label.sk-toggleable__label-arrow:before {color: black;}#sk-container-id-1 div.sk-toggleable__content {max-height: 0;max-width: 0;overflow: hidden;text-align: left;background-color: #f0f8ff;}#sk-container-id-1 div.sk-toggleable__content pre {margin: 0.2em;color: black;border-radius: 0.25em;background-color: #f0f8ff;}#sk-container-id-1 input.sk-toggleable__control:checked~div.sk-toggleable__content {max-height: 200px;max-width: 100%;overflow: auto;}#sk-container-id-1 input.sk-toggleable__control:checked~label.sk-toggleable__label-arrow:before {content: \"▾\";}#sk-container-id-1 div.sk-estimator input.sk-toggleable__control:checked~label.sk-toggleable__label {background-color: #d4ebff;}#sk-container-id-1 div.sk-label input.sk-toggleable__control:checked~label.sk-toggleable__label {background-color: #d4ebff;}#sk-container-id-1 input.sk-hidden--visually {border: 0;clip: rect(1px 1px 1px 1px);clip: rect(1px, 1px, 1px, 1px);height: 1px;margin: -1px;overflow: hidden;padding: 0;position: absolute;width: 1px;}#sk-container-id-1 div.sk-estimator {font-family: monospace;background-color: #f0f8ff;border: 1px dotted black;border-radius: 0.25em;box-sizing: border-box;margin-bottom: 0.5em;}#sk-container-id-1 div.sk-estimator:hover {background-color: #d4ebff;}#sk-container-id-1 div.sk-parallel-item::after {content: \"\";width: 100%;border-bottom: 1px solid gray;flex-grow: 1;}#sk-container-id-1 div.sk-label:hover label.sk-toggleable__label {background-color: #d4ebff;}#sk-container-id-1 div.sk-serial::before {content: \"\";position: absolute;border-left: 1px solid gray;box-sizing: border-box;top: 0;bottom: 0;left: 50%;z-index: 0;}#sk-container-id-1 div.sk-serial {display: flex;flex-direction: column;align-items: center;background-color: white;padding-right: 0.2em;padding-left: 0.2em;position: relative;}#sk-container-id-1 div.sk-item {position: relative;z-index: 1;}#sk-container-id-1 div.sk-parallel {display: flex;align-items: stretch;justify-content: center;background-color: white;position: relative;}#sk-container-id-1 div.sk-item::before, #sk-container-id-1 div.sk-parallel-item::before {content: \"\";position: absolute;border-left: 1px solid gray;box-sizing: border-box;top: 0;bottom: 0;left: 50%;z-index: -1;}#sk-container-id-1 div.sk-parallel-item {display: flex;flex-direction: column;z-index: 1;position: relative;background-color: white;}#sk-container-id-1 div.sk-parallel-item:first-child::after {align-self: flex-end;width: 50%;}#sk-container-id-1 div.sk-parallel-item:last-child::after {align-self: flex-start;width: 50%;}#sk-container-id-1 div.sk-parallel-item:only-child::after {width: 0;}#sk-container-id-1 div.sk-dashed-wrapped {border: 1px dashed gray;margin: 0 0.4em 0.5em 0.4em;box-sizing: border-box;padding-bottom: 0.4em;background-color: white;}#sk-container-id-1 div.sk-label label {font-family: monospace;font-weight: bold;display: inline-block;line-height: 1.2em;}#sk-container-id-1 div.sk-label-container {text-align: center;}#sk-container-id-1 div.sk-container {/* jupyter's `normalize.less` sets `[hidden] { display: none; }` but bootstrap.min.css set `[hidden] { display: none !important; }` so we also need the `!important` here to be able to override the default hidden behavior on the sphinx rendered scikit-learn.org. See: https://github.com/scikit-learn/scikit-learn/issues/21755 */display: inline-block !important;position: relative;}#sk-container-id-1 div.sk-text-repr-fallback {display: none;}</style><div id=\"sk-container-id-1\" class=\"sk-top-container\"><div class=\"sk-text-repr-fallback\"><pre>DecisionTreeClassifier(max_depth=6)</pre><b>In a Jupyter environment, please rerun this cell to show the HTML representation or trust the notebook. <br />On GitHub, the HTML representation is unable to render, please try loading this page with nbviewer.org.</b></div><div class=\"sk-container\" hidden><div class=\"sk-item\"><div class=\"sk-estimator sk-toggleable\"><input class=\"sk-toggleable__control sk-hidden--visually\" id=\"sk-estimator-id-1\" type=\"checkbox\" checked><label for=\"sk-estimator-id-1\" class=\"sk-toggleable__label sk-toggleable__label-arrow\">DecisionTreeClassifier</label><div class=\"sk-toggleable__content\"><pre>DecisionTreeClassifier(max_depth=6)</pre></div></div></div></div></div>"
      ],
      "text/plain": [
       "DecisionTreeClassifier(max_depth=6)"
      ]
     },
     "execution_count": 6,
     "metadata": {},
     "output_type": "execute_result"
    }
   ],
   "source": [
    "# Train a decision tree model of depth 6\n",
    "dt6 = DecisionTreeClassifier(max_depth=6)\n",
    "dt6.fit(x_train, y_train)"
   ]
  },
  {
   "cell_type": "code",
   "execution_count": 7,
   "id": "3d223a9a-3c60-4914-a2d7-045aacba0510",
   "metadata": {},
   "outputs": [
    {
     "name": "stdout",
     "output_type": "stream",
     "text": [
      "Score of rbf kernel SVM on training set: 0.7591\n",
      "Score of rbf kernel SVM on testing set: 0.7269\n"
     ]
    }
   ],
   "source": [
    "from sklearn.svm import SVC\n",
    "\n",
    "# Train an SVM (RBF kernel)\n",
    "svm = SVC(kernel='rbf') \n",
    "svm.fit(x_train, y_train)\n",
    "\n",
    "# Check the SVM's performance on the training and testing data sets\n",
    "print('Score of rbf kernel SVM on training set: %.4f' %svm.score(x_train, y_train))\n",
    "print('Score of rbf kernel SVM on testing set: %.4f' %svm.score(x_test, y_test))"
   ]
  },
  {
   "cell_type": "code",
   "execution_count": 8,
   "id": "aea91662-9468-4a01-941f-4f72ca51efbe",
   "metadata": {},
   "outputs": [
    {
     "data": {
      "text/html": [
       "<style>#sk-container-id-2 {color: black;background-color: white;}#sk-container-id-2 pre{padding: 0;}#sk-container-id-2 div.sk-toggleable {background-color: white;}#sk-container-id-2 label.sk-toggleable__label {cursor: pointer;display: block;width: 100%;margin-bottom: 0;padding: 0.3em;box-sizing: border-box;text-align: center;}#sk-container-id-2 label.sk-toggleable__label-arrow:before {content: \"▸\";float: left;margin-right: 0.25em;color: #696969;}#sk-container-id-2 label.sk-toggleable__label-arrow:hover:before {color: black;}#sk-container-id-2 div.sk-estimator:hover label.sk-toggleable__label-arrow:before {color: black;}#sk-container-id-2 div.sk-toggleable__content {max-height: 0;max-width: 0;overflow: hidden;text-align: left;background-color: #f0f8ff;}#sk-container-id-2 div.sk-toggleable__content pre {margin: 0.2em;color: black;border-radius: 0.25em;background-color: #f0f8ff;}#sk-container-id-2 input.sk-toggleable__control:checked~div.sk-toggleable__content {max-height: 200px;max-width: 100%;overflow: auto;}#sk-container-id-2 input.sk-toggleable__control:checked~label.sk-toggleable__label-arrow:before {content: \"▾\";}#sk-container-id-2 div.sk-estimator input.sk-toggleable__control:checked~label.sk-toggleable__label {background-color: #d4ebff;}#sk-container-id-2 div.sk-label input.sk-toggleable__control:checked~label.sk-toggleable__label {background-color: #d4ebff;}#sk-container-id-2 input.sk-hidden--visually {border: 0;clip: rect(1px 1px 1px 1px);clip: rect(1px, 1px, 1px, 1px);height: 1px;margin: -1px;overflow: hidden;padding: 0;position: absolute;width: 1px;}#sk-container-id-2 div.sk-estimator {font-family: monospace;background-color: #f0f8ff;border: 1px dotted black;border-radius: 0.25em;box-sizing: border-box;margin-bottom: 0.5em;}#sk-container-id-2 div.sk-estimator:hover {background-color: #d4ebff;}#sk-container-id-2 div.sk-parallel-item::after {content: \"\";width: 100%;border-bottom: 1px solid gray;flex-grow: 1;}#sk-container-id-2 div.sk-label:hover label.sk-toggleable__label {background-color: #d4ebff;}#sk-container-id-2 div.sk-serial::before {content: \"\";position: absolute;border-left: 1px solid gray;box-sizing: border-box;top: 0;bottom: 0;left: 50%;z-index: 0;}#sk-container-id-2 div.sk-serial {display: flex;flex-direction: column;align-items: center;background-color: white;padding-right: 0.2em;padding-left: 0.2em;position: relative;}#sk-container-id-2 div.sk-item {position: relative;z-index: 1;}#sk-container-id-2 div.sk-parallel {display: flex;align-items: stretch;justify-content: center;background-color: white;position: relative;}#sk-container-id-2 div.sk-item::before, #sk-container-id-2 div.sk-parallel-item::before {content: \"\";position: absolute;border-left: 1px solid gray;box-sizing: border-box;top: 0;bottom: 0;left: 50%;z-index: -1;}#sk-container-id-2 div.sk-parallel-item {display: flex;flex-direction: column;z-index: 1;position: relative;background-color: white;}#sk-container-id-2 div.sk-parallel-item:first-child::after {align-self: flex-end;width: 50%;}#sk-container-id-2 div.sk-parallel-item:last-child::after {align-self: flex-start;width: 50%;}#sk-container-id-2 div.sk-parallel-item:only-child::after {width: 0;}#sk-container-id-2 div.sk-dashed-wrapped {border: 1px dashed gray;margin: 0 0.4em 0.5em 0.4em;box-sizing: border-box;padding-bottom: 0.4em;background-color: white;}#sk-container-id-2 div.sk-label label {font-family: monospace;font-weight: bold;display: inline-block;line-height: 1.2em;}#sk-container-id-2 div.sk-label-container {text-align: center;}#sk-container-id-2 div.sk-container {/* jupyter's `normalize.less` sets `[hidden] { display: none; }` but bootstrap.min.css set `[hidden] { display: none !important; }` so we also need the `!important` here to be able to override the default hidden behavior on the sphinx rendered scikit-learn.org. See: https://github.com/scikit-learn/scikit-learn/issues/21755 */display: inline-block !important;position: relative;}#sk-container-id-2 div.sk-text-repr-fallback {display: none;}</style><div id=\"sk-container-id-2\" class=\"sk-top-container\"><div class=\"sk-text-repr-fallback\"><pre>KNeighborsClassifier()</pre><b>In a Jupyter environment, please rerun this cell to show the HTML representation or trust the notebook. <br />On GitHub, the HTML representation is unable to render, please try loading this page with nbviewer.org.</b></div><div class=\"sk-container\" hidden><div class=\"sk-item\"><div class=\"sk-estimator sk-toggleable\"><input class=\"sk-toggleable__control sk-hidden--visually\" id=\"sk-estimator-id-2\" type=\"checkbox\" checked><label for=\"sk-estimator-id-2\" class=\"sk-toggleable__label sk-toggleable__label-arrow\">KNeighborsClassifier</label><div class=\"sk-toggleable__content\"><pre>KNeighborsClassifier()</pre></div></div></div></div></div>"
      ],
      "text/plain": [
       "KNeighborsClassifier()"
      ]
     },
     "execution_count": 8,
     "metadata": {},
     "output_type": "execute_result"
    }
   ],
   "source": [
    "from sklearn.neighbors import KNeighborsClassifier\n",
    "\n",
    "# Train a KNN model with K=5\n",
    "knn = KNeighborsClassifier(n_neighbors=5)\n",
    "knn.fit(x_train, y_train)"
   ]
  },
  {
   "cell_type": "markdown",
   "id": "54325118-f03e-42ec-80fd-d2a0ff3dd5d0",
   "metadata": {},
   "source": [
    "# 4. Compare accuracies of each prediction model\n",
    "**Score each model on the testing data set to compare their accuracies.**"
   ]
  },
  {
   "cell_type": "code",
   "execution_count": 9,
   "id": "6ca4fccf-26b8-4a92-836d-c77ea0e9014b",
   "metadata": {},
   "outputs": [
    {
     "name": "stdout",
     "output_type": "stream",
     "text": [
      "Scores on the training set\n",
      "Decision Tree:       0.765\n",
      "Support Vector M.:   0.759\n",
      "5-Nearest Neighbor:  0.804\n",
      "\n",
      "Scores on the testing set\n",
      "Decision tree:       0.725\n",
      "Support Vector M.:   0.727\n",
      "5-Nearest Neighbor:  0.707\n"
     ]
    }
   ],
   "source": [
    "# Training set scores\n",
    "print('Scores on the training set')\n",
    "print('%-20s %.3f' %('Decision Tree:', dt6.score(x_train, y_train)))\n",
    "print('%-20s %.3f' %('Support Vector M.:', svm.score(x_train, y_train)))\n",
    "print('%-20s %.3f' %('5-Nearest Neighbor:', knn.score(x_train, y_train)))\n",
    "\n",
    "# Testing set scores\n",
    "print('\\nScores on the testing set')\n",
    "print('%-20s %.3f' %('Decision tree:', dt6.score(x_test, y_test)))\n",
    "print('%-20s %.3f' %('Support Vector M.:', svm.score(x_test, y_test)))\n",
    "print('%-20s %.3f' %('5-Nearest Neighbor:', knn.score(x_test, y_test)))"
   ]
  },
  {
   "cell_type": "markdown",
   "id": "1158404b-eb65-4798-8357-ac3b47196ce9",
   "metadata": {},
   "source": [
    "EXPLAIN SCORES"
   ]
  },
  {
   "cell_type": "code",
   "execution_count": null,
   "id": "fd6c8c10-f336-41b5-b971-a96f1a6eaff7",
   "metadata": {},
   "outputs": [],
   "source": []
  }
 ],
 "metadata": {
  "kernelspec": {
   "display_name": "Python 3 (ipykernel)",
   "language": "python",
   "name": "python3"
  },
  "language_info": {
   "codemirror_mode": {
    "name": "ipython",
    "version": 3
   },
   "file_extension": ".py",
   "mimetype": "text/x-python",
   "name": "python",
   "nbconvert_exporter": "python",
   "pygments_lexer": "ipython3",
   "version": "3.8.13"
  }
 },
 "nbformat": 4,
 "nbformat_minor": 5
}

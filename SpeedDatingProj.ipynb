{
 "cells": [
  {
   "cell_type": "markdown",
   "id": "d85f539b-8f39-4e36-9036-263f6c7e3fce",
   "metadata": {},
   "source": [
    "# Speed Dating Analysis - Tristan Langley"
   ]
  },
  {
   "cell_type": "markdown",
   "id": "c2834a2f-bbfd-4224-b87a-d5e158568345",
   "metadata": {},
   "source": [
    "**This project looks at speed dating survey results. The goal is to find the features that best predict whether someone\n",
    "will decide \"yes\" on their partner (i.e. want to match with them). Then, we will create a model based on these features\n",
    "and test how accurately it predicts \"yes\" decisions.**"
   ]
  },
  {
   "cell_type": "markdown",
   "id": "8e8bfb58-d2e9-4f22-aeef-2c03656072ea",
   "metadata": {},
   "source": [
    "**1. Data preprocessing:** Speed dating data is in a csv file. There are many columns; we will keep only the most \"straightforward\"\n",
    "ones. E.g. attractiveness rating, correlation in interests, age difference, etc."
   ]
  },
  {
   "cell_type": "code",
   "execution_count": null,
   "id": "06e30b9a-c671-4a01-a845-f6985f6c1cca",
   "metadata": {},
   "outputs": [],
   "source": []
  }
 ],
 "metadata": {
  "kernelspec": {
   "display_name": "Python 3 (ipykernel)",
   "language": "python",
   "name": "python3"
  },
  "language_info": {
   "codemirror_mode": {
    "name": "ipython",
    "version": 3
   },
   "file_extension": ".py",
   "mimetype": "text/x-python",
   "name": "python",
   "nbconvert_exporter": "python",
   "pygments_lexer": "ipython3",
   "version": "3.8.13"
  }
 },
 "nbformat": 4,
 "nbformat_minor": 5
}
